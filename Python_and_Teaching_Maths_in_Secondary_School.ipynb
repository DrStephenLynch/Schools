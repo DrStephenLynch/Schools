{
  "nbformat": 4,
  "nbformat_minor": 0,
  "metadata": {
    "colab": {
      "provenance": [],
      "collapsed_sections": [
        "1407Iz8ihpvq",
        "6wAz6ERSptak",
        "QabrCjBzl4HV",
        "F8BFz045oJLq",
        "P89YB8X-tTWQ"
      ],
      "authorship_tag": "ABX9TyMPLogR2sYvG+p7T3hOZ5Nl",
      "include_colab_link": true
    },
    "kernelspec": {
      "name": "python3",
      "display_name": "Python 3"
    },
    "language_info": {
      "name": "python"
    }
  },
  "cells": [
    {
      "cell_type": "markdown",
      "metadata": {
        "id": "view-in-github",
        "colab_type": "text"
      },
      "source": [
        "<a href=\"https://colab.research.google.com/github/DrStephenLynch/Schools/blob/main/Python_and_Teaching_Maths_in_Secondary_School.ipynb\" target=\"_parent\"><img src=\"https://colab.research.google.com/assets/colab-badge.svg\" alt=\"Open In Colab\"/></a>"
      ]
    },
    {
      "cell_type": "markdown",
      "source": [
        "<center>\n",
        "\n",
        "# PYTHON and TEACHING MATHS in SECONDARY SCHOOLS\n",
        "\n",
        "\n",
        "## Google Colab\n",
        "\n",
        "Dr Stephen Lynch NTF FIMA SFHEA\n",
        "</center>"
      ],
      "metadata": {
        "id": "0X5NGwjPf1Af"
      }
    },
    {
      "cell_type": "markdown",
      "source": [
        "# Why Python?\n",
        "\n",
        "[Python for A-Level Maths, Undergraduate Maths and Employability](https://www.mathscareers.org.uk/python-for-a-level-maths-undergraduate-maths-and-employability/)"
      ],
      "metadata": {
        "id": "1407Iz8ihpvq"
      }
    },
    {
      "cell_type": "code",
      "execution_count": null,
      "metadata": {
        "id": "Vna6nww0c-Ed"
      },
      "outputs": [],
      "source": [
        "4 - 7 * (8 - 5 + 20)"
      ]
    },
    {
      "cell_type": "code",
      "source": [
        "2**8"
      ],
      "metadata": {
        "id": "xcOTa706kaGt"
      },
      "execution_count": null,
      "outputs": []
    },
    {
      "cell_type": "code",
      "source": [
        "# The number of permutations of a pack of playing cards!\n",
        "from math import *\n",
        "factorial(52)"
      ],
      "metadata": {
        "id": "7dX3Bn6Mkczb"
      },
      "execution_count": null,
      "outputs": []
    },
    {
      "cell_type": "code",
      "source": [
        "ceil(2.5) # The lowest integer greater than x."
      ],
      "metadata": {
        "id": "10O_yiUKknIB"
      },
      "execution_count": null,
      "outputs": []
    },
    {
      "cell_type": "code",
      "source": [
        "floor(2.5) # The highest integer less than x."
      ],
      "metadata": {
        "id": "xeog-LyDk0-w"
      },
      "execution_count": null,
      "outputs": []
    },
    {
      "cell_type": "code",
      "source": [
        "trunc(2.456) # Truncate the real number."
      ],
      "metadata": {
        "id": "akcYlA9QvNjr"
      },
      "execution_count": null,
      "outputs": []
    },
    {
      "cell_type": "code",
      "source": [
        "e**2"
      ],
      "metadata": {
        "id": "3c1KmxJfk8MF"
      },
      "execution_count": null,
      "outputs": []
    },
    {
      "cell_type": "code",
      "source": [
        "import numpy as np\n",
        "import matplotlib.pyplot as plt\n",
        "x = np.arange(-2 , 2 , 0.01)\n",
        "y = x**2\n",
        "plt.title(\"$y=x^2$\")\n",
        "plt.plot(x , y , color = \"blue\")\n",
        "plt.xlabel(\"x\")\n",
        "plt.ylabel(\"y\")\n",
        "plt.show()"
      ],
      "metadata": {
        "id": "X5TWfsHKWLD-"
      },
      "execution_count": null,
      "outputs": []
    },
    {
      "cell_type": "markdown",
      "source": [
        "# 2. Very Simple Programs "
      ],
      "metadata": {
        "id": "6wAz6ERSptak"
      }
    },
    {
      "cell_type": "code",
      "source": [
        "# Define a function. Think of adding a button on your calculator.\n",
        "def sqr(x):\n",
        "  return x * x\n",
        "\n",
        "sqr(-30)"
      ],
      "metadata": {
        "id": "PFUkXPcMp0Fh"
      },
      "execution_count": null,
      "outputs": []
    },
    {
      "cell_type": "code",
      "source": [
        "# Using a while loop to sum natural numbers.\n",
        "def sum_N(n):\n",
        "  sum , i = 0 , 1\n",
        "  while i <= n:\n",
        "    sum += i       # sum = sum + i.\n",
        "    i += 1         # i = i + 1.\n",
        "  print(\"The sum is\" ,  sum)\n",
        "\n",
        "sum_N(100)"
      ],
      "metadata": {
        "id": "IxYfCx4gqAdK"
      },
      "execution_count": null,
      "outputs": []
    },
    {
      "cell_type": "code",
      "source": [
        "# Using if, elif, else to test integers.\n",
        "def testinteger(n):\n",
        "  if n > 0:\n",
        "    print(\"The integer\", n , \"is positive.\")\n",
        "  elif n <0:\n",
        "    print(\"The integer\" , n , \"is negative.\")\n",
        "  else:\n",
        "    print(\"the integer\" , n , \"is zero.\")\n",
        "\n",
        "testinteger(-946)"
      ],
      "metadata": {
        "id": "ZrFK1VsiqsXl"
      },
      "execution_count": null,
      "outputs": []
    },
    {
      "cell_type": "markdown",
      "source": [
        "# 3. Plotting Fractals with Turtle"
      ],
      "metadata": {
        "id": "QabrCjBzl4HV"
      }
    },
    {
      "cell_type": "code",
      "source": [
        "# These programs are usually run in Python IDLE.\n",
        "# You must run this cell before the other turtle programs.\n",
        "# Install Turtle into Google Colab.\n",
        "!pip install ColabTurtlePlus\n",
        "from ColabTurtlePlus.Turtle import *"
      ],
      "metadata": {
        "id": "OaDs_GDfl9J_"
      },
      "execution_count": null,
      "outputs": []
    },
    {
      "cell_type": "code",
      "source": [
        "initializeTurtle()\n",
        "setheading(90) # Turtle points up.\n",
        "penup()\n",
        "setpos(0 , -250)\n",
        "pendown()\n",
        "speed(0)\n",
        "def fractal_tree_color(length , level):\n",
        "    pensize(length / 10)\n",
        "    if length < 20:\n",
        "        pencolor(\"green\") # The leaves.\n",
        "    else:\n",
        "        pencolor(\"brown\") # The trunk and branches.\n",
        "    if level > 0:\n",
        "        fd(length)         # Forward length.\n",
        "        rt(30)             # Right turn 30 degrees.\n",
        "        fractal_tree_color(length * 0.7 , level - 1) # Right branches.\n",
        "        lt(90)             # Left turn 90 degrees.\n",
        "        fractal_tree_color(length * 0.5 , level - 1) # Left branches.\n",
        "        rt(60)\n",
        "        penup()\n",
        "        bk(length)\n",
        "        pendown()\n",
        "fractal_tree_color(200 , 8)"
      ],
      "metadata": {
        "id": "PIYQZf30mT-K"
      },
      "execution_count": null,
      "outputs": []
    },
    {
      "cell_type": "markdown",
      "source": [
        "# 4. A-Level Mathematics\n",
        "\n",
        "[Jupyter Notebook: Python for A-Level Mathematics and Beyond](https://drstephenlynch.github.io/webpages/Python_for_A_Level_Mathematics_and_Beyond.html)"
      ],
      "metadata": {
        "id": "F8BFz045oJLq"
      }
    },
    {
      "cell_type": "code",
      "source": [
        "from sympy import *\n",
        "x = symbols(\"x\")\n",
        "solve(x**2 - 4 * x - 3 , x)"
      ],
      "metadata": {
        "id": "Is64b-aUoNTU"
      },
      "execution_count": null,
      "outputs": []
    },
    {
      "cell_type": "code",
      "source": [
        "diff(x * cos(x) / exp(x)) # Differentiate."
      ],
      "metadata": {
        "id": "A-aAgPoEr-nl"
      },
      "execution_count": null,
      "outputs": []
    },
    {
      "cell_type": "code",
      "source": [
        "integrate(x / exp(x) , (x , 0 , oo)) # Integrate."
      ],
      "metadata": {
        "id": "66g4NVvisGw2"
      },
      "execution_count": null,
      "outputs": []
    },
    {
      "cell_type": "code",
      "source": [
        "summation(1 / x , (x , 1 , oo)) # Infinite series."
      ],
      "metadata": {
        "id": "q7W7IjD-sPAF"
      },
      "execution_count": null,
      "outputs": []
    },
    {
      "cell_type": "code",
      "source": [
        "(exp(x) * sin(x)).series(x , 0 , 10) # Taylor series expansion."
      ],
      "metadata": {
        "id": "mib8E3_7sViD"
      },
      "execution_count": null,
      "outputs": []
    },
    {
      "cell_type": "code",
      "source": [
        "trigsimp(cos(x)-cos(x)**3)"
      ],
      "metadata": {
        "id": "qf5oNeyfsse1"
      },
      "execution_count": null,
      "outputs": []
    },
    {
      "cell_type": "markdown",
      "source": [
        "# 5. Animations"
      ],
      "metadata": {
        "id": "P89YB8X-tTWQ"
      }
    },
    {
      "cell_type": "code",
      "source": [
        "# Animation of a Sine Wave - Change the frequency.\n",
        "import numpy as np\n",
        "from matplotlib import pyplot as plt\n",
        "from matplotlib import animation\n",
        "\n",
        "fig = plt.figure()\n",
        "ax = plt.axes(xlim=(0, 2),ylim=(-2 , 2))\n",
        "line, = ax.plot([],[],lw=2)\n",
        "plt.xlabel(\"t\")\n",
        "plt.ylabel(\"$\\sin(\\omega t)$\")\n",
        "plt.close()\n",
        "\n",
        "def init():\n",
        "    line.set_data([],[])\n",
        "    return line,\n",
        "\n",
        "# The function to animate. Now frames = 101, and 0 <= i <= 100.\n",
        "def animate(i):\n",
        "    t = np.linspace(0, 2, 1000)\n",
        "    y = np.sin(0.1 * i * t)\n",
        "    line.set_data(t, y)\n",
        "    return line,\n",
        "\n",
        "# Change interval to change speed of animation. There are 100 frames in the animation.\n",
        "anim = animation.FuncAnimation(fig, animate, init_func=init, frames=101, interval=100, blit=False)\n",
        "\n",
        "# The code to produce an animation in html.\n",
        "from IPython.display import HTML\n",
        "HTML(anim.to_jshtml())"
      ],
      "metadata": {
        "id": "-kwEzCe3tVQg"
      },
      "execution_count": null,
      "outputs": []
    },
    {
      "cell_type": "markdown",
      "source": [
        "# 6. New Book: Python for Scientific Computing and Artificial Intelligence\n",
        "\n",
        "![picture](https://images.routledge.com/common/jackets/crclarge/978103225/9781032258713.jpg)\n",
        "\n",
        "[CRC Press 2023: Book URL](https://www.routledge.com/Python-for-Scientific-Computing-and-Artificial-Intelligence/Lynch/p/book/9781032258713#)\n",
        "    \n",
        "# Features:\n",
        "\n",
        "1. No prior experience of programming is required.\n",
        "2. Online GitHub repository available with codes for readers to practice.\n",
        "3. Covers applications and examples from biology, chemistry, computer science, data science, electrical and mechanical engineering, economics, mathematics, physics, statistics and binary oscillator computing.\n",
        "4. Full solutions to exercises are available as Jupyter notebooks on the Web.\n",
        "\n",
        "# Table of Contents:\n",
        "\n",
        "Section I: An Introduction to Python. \n",
        "1. The IDLE Integrated Development Learning Environment. \n",
        "2. Anaconda, Spyder and the Libraries NumPy, Matplotlib and SymPy. \n",
        "3. Jupyter Notebooks and Google Colab. \n",
        "4. Python for AS-Level (High School) Mathematics. \n",
        "5. Python for A-Level (High School) Mathematics. \n",
        "\n",
        "Section II: Python for Scientific Computing. \n",
        "6. Biology. \n",
        "7. Chemistry. \n",
        "8. Data Science. \n",
        "9. Economics. \n",
        "10. Engineering. \n",
        "11. Fractals and Multifractals. \n",
        "12. Image Processing. \n",
        "13. Numerical Methods for Ordinary and Partial Differential Equations. \n",
        "14. Physics. \n",
        "15. Statistics. \n",
        "\n",
        "Section III. Artificial Intelligence. \n",
        "16. Brain Inspired Computing. \n",
        "17. Neural Networks and Neurodynamics. \n",
        "18. TensorFlow and Keras. \n",
        "19. Recurrent Neural Networks. \n",
        "20. Convolutional Neural Networks, TensorBoard, and Further Reading. \n",
        "21. Answers and Hints to Exercises.\n",
        "\n"
      ],
      "metadata": {
        "id": "Nn5ZED5Dq6bi"
      }
    },
    {
      "cell_type": "markdown",
      "source": [
        "# IMA Workshops: Python for A-Level Mathematics and Beyond\n",
        "\n",
        "Register here:\n",
        "\n",
        "[Online IMA Workshops](https://ima.org.uk/events/)"
      ],
      "metadata": {
        "id": "iKKnycZ5u7gE"
      }
    }
  ]
}
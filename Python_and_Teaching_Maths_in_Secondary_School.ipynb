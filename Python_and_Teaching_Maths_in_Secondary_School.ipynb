{
  "cells": [
    {
      "cell_type": "markdown",
      "metadata": {
        "id": "view-in-github",
        "colab_type": "text"
      },
      "source": [
        "<a href=\"https://colab.research.google.com/github/DrStephenLynch/Schools/blob/main/Python_and_Teaching_Maths_in_Secondary_School.ipynb\" target=\"_parent\"><img src=\"https://colab.research.google.com/assets/colab-badge.svg\" alt=\"Open In Colab\"/></a>"
      ]
    },
    {
      "cell_type": "markdown",
      "metadata": {
        "id": "0X5NGwjPf1Af"
      },
      "source": [
        "<center>\n",
        "\n",
        "# PYTHON and TEACHING MATHS in SECONDARY SCHOOLS\n",
        "\n",
        "\n",
        "## MathsConf32\n",
        "\n",
        "Dr Stephen Lynch NTF FIMA SFHEA\n",
        "</center>"
      ]
    },
    {
      "cell_type": "markdown",
      "metadata": {
        "id": "1407Iz8ihpvq"
      },
      "source": [
        "# Why Python?\n",
        "\n",
        "[Python for A-Level Maths, Undergraduate Maths and Employability](https://www.mathscareers.org.uk/python-for-a-level-maths-undergraduate-maths-and-employability/)\n",
        "\n",
        "# IMA Workshop: Python for A-Level Maths and Beyond\n",
        "\n",
        "Register here:\n",
        "\n",
        "[Hands-On Workshop: Friday September 22nd or Saturday September 23rd 2023](https://ima.org.uk/22099/online-workshop-python-for-a-level-mathematics-and-beyond-autumn-2023/)"
      ]
    },
    {
      "cell_type": "code",
      "execution_count": null,
      "metadata": {
        "id": "Vna6nww0c-Ed"
      },
      "outputs": [],
      "source": [
        "# BODMAS\n",
        "4 - 7 * (8 - 5 + 20) + (3 - 5) / 2"
      ]
    },
    {
      "cell_type": "code",
      "execution_count": null,
      "metadata": {
        "id": "xcOTa706kaGt"
      },
      "outputs": [],
      "source": [
        "# Exponents\n",
        "2**8"
      ]
    },
    {
      "cell_type": "code",
      "execution_count": null,
      "metadata": {
        "id": "7dX3Bn6Mkczb"
      },
      "outputs": [],
      "source": [
        "# The number of permutations of a pack of playing cards!\n",
        "from math import *\n",
        "factorial(52)"
      ]
    },
    {
      "cell_type": "code",
      "execution_count": null,
      "metadata": {
        "id": "10O_yiUKknIB"
      },
      "outputs": [],
      "source": [
        "# Ceiling function: the lowest integer greater than or equal to x, where x is a real number.\n",
        "ceil(2.5) "
      ]
    },
    {
      "cell_type": "code",
      "execution_count": null,
      "metadata": {
        "id": "xeog-LyDk0-w"
      },
      "outputs": [],
      "source": [
        "# Floor function: the highest integer less than or equal to x, where x is a real number.\n",
        "floor(2.5)"
      ]
    },
    {
      "cell_type": "code",
      "execution_count": null,
      "metadata": {
        "id": "akcYlA9QvNjr"
      },
      "outputs": [],
      "source": [
        "# Truncate towards zero on the real line.\n",
        "trunc(2.456) "
      ]
    },
    {
      "cell_type": "code",
      "execution_count": null,
      "metadata": {
        "id": "3c1KmxJfk8MF"
      },
      "outputs": [],
      "source": [
        "# Round to n decimal places.\n",
        "round(pi , 10)"
      ]
    },
    {
      "cell_type": "code",
      "execution_count": null,
      "metadata": {
        "id": "X5TWfsHKWLD-"
      },
      "outputs": [],
      "source": [
        "# Plot a quadratic function.\n",
        "import numpy as np\n",
        "import matplotlib.pyplot as plt\n",
        "x = np.arange(-2 , 4 , 0.01)\n",
        "y = (x - 1)**2 + 2\n",
        "plt.title(\"$y=(x - 1)^2+2$\")\n",
        "plt.plot(x , y , color = \"blue\")\n",
        "plt.xlabel(\"x\")\n",
        "plt.ylabel(\"y\")\n",
        "plt.ylim(0 , 10)\n",
        "# Figure will be saved in the Files folder to the left of this window.\n",
        "plt.savefig(\"parabola.png\" , dpi = 400)\n",
        "plt.show()"
      ]
    },
    {
      "cell_type": "markdown",
      "metadata": {
        "id": "6wAz6ERSptak"
      },
      "source": [
        "# 2. Very Simple Programs "
      ]
    },
    {
      "cell_type": "code",
      "execution_count": null,
      "metadata": {
        "id": "PFUkXPcMp0Fh"
      },
      "outputs": [],
      "source": [
        "# Define a function. Think of adding a button on your calculator.\n",
        "def sqr(x):\n",
        "  return x * x\n",
        "\n",
        "sqr(-30)"
      ]
    },
    {
      "cell_type": "code",
      "execution_count": null,
      "metadata": {
        "id": "IxYfCx4gqAdK"
      },
      "outputs": [],
      "source": [
        "# Using a while loop to sum natural numbers.\n",
        "def sum_N(n):\n",
        "  sum , i = 0 , 1\n",
        "  while i <= n:\n",
        "    sum += i       # sum = sum + i.\n",
        "    i += 1         # i = i + 1.\n",
        "  print(\"The sum is\" ,  sum)\n",
        "\n",
        "sum_N(100)"
      ]
    },
    {
      "cell_type": "code",
      "execution_count": null,
      "metadata": {
        "id": "ZrFK1VsiqsXl"
      },
      "outputs": [],
      "source": [
        "# Using if, elif, else to test integers.\n",
        "def testinteger(n):\n",
        "  if n > 0:\n",
        "    print(\"The integer\", n , \"is positive.\")\n",
        "  elif n <0:\n",
        "    print(\"The integer\" , n , \"is negative.\")\n",
        "  else:\n",
        "    print(\"The integer\" , n , \"is zero.\")\n",
        "\n",
        "testinteger(-946)"
      ]
    },
    {
      "cell_type": "markdown",
      "metadata": {
        "id": "QabrCjBzl4HV"
      },
      "source": [
        "# 3. Plotting Fractals with Turtle"
      ]
    },
    {
      "cell_type": "code",
      "execution_count": null,
      "metadata": {
        "id": "OaDs_GDfl9J_"
      },
      "outputs": [],
      "source": [
        "# These programs are usually run in Python IDLE.\n",
        "# You must run this cell before the other turtle programs.\n",
        "# Install Turtle into Google Colab.\n",
        "!pip install ColabTurtlePlus\n",
        "from ColabTurtlePlus.Turtle import *"
      ]
    },
    {
      "cell_type": "code",
      "execution_count": null,
      "metadata": {
        "id": "PIYQZf30mT-K"
      },
      "outputs": [],
      "source": [
        "# Plot a colour bifurcating fractal tree.\n",
        "initializeTurtle()\n",
        "setheading(90)            # Turtle points up.\n",
        "penup()\n",
        "setpos(0 , -250)\n",
        "pendown()\n",
        "speed(0)\n",
        "def fractal_tree_color(length , level):\n",
        "    pensize(length / 10)\n",
        "    if length < 20:\n",
        "        pencolor(\"green\") # The leaves.\n",
        "    else:\n",
        "        pencolor(\"brown\") # The trunk and branches.\n",
        "    if level > 0:\n",
        "        fd(length)         # Forward length.\n",
        "        rt(30)             # Right turn 30 degrees.\n",
        "        fractal_tree_color(length * 0.7 , level - 1) # Right branches.\n",
        "        lt(90)             # Left turn 90 degrees.\n",
        "        fractal_tree_color(length * 0.5 , level - 1) # Left branches.\n",
        "        rt(60)\n",
        "        penup()\n",
        "        bk(length)\n",
        "        pendown()\n",
        "fractal_tree_color(200 , 8)"
      ]
    },
    {
      "cell_type": "markdown",
      "metadata": {
        "id": "F8BFz045oJLq"
      },
      "source": [
        "# 4. A-Level Mathematics\n",
        "\n",
        "[Jupyter Notebook: Python for A-Level Mathematics and Beyond](https://drstephenlynch.github.io/webpages/Python_for_A_Level_Mathematics_and_Beyond.html)"
      ]
    },
    {
      "cell_type": "code",
      "execution_count": null,
      "metadata": {
        "id": "Is64b-aUoNTU"
      },
      "outputs": [],
      "source": [
        "from sympy import *\n",
        "x = symbols(\"x\")\n",
        "solve(x**2 - 4 * x - 3 , x)"
      ]
    },
    {
      "cell_type": "code",
      "execution_count": null,
      "metadata": {
        "id": "A-aAgPoEr-nl"
      },
      "outputs": [],
      "source": [
        "# Differentiate.\n",
        "diff(x * cos(x) / exp(x)) "
      ]
    },
    {
      "cell_type": "code",
      "execution_count": null,
      "metadata": {
        "id": "66g4NVvisGw2"
      },
      "outputs": [],
      "source": [
        "# Integrate.\n",
        "integrate(x / exp(x) , (x , 0 , oo)) "
      ]
    },
    {
      "cell_type": "code",
      "execution_count": null,
      "metadata": {
        "id": "q7W7IjD-sPAF"
      },
      "outputs": [],
      "source": [
        "# Infinite series.\n",
        "summation(1 / x , (x , 1 , oo)) "
      ]
    },
    {
      "cell_type": "code",
      "execution_count": null,
      "metadata": {
        "id": "mib8E3_7sViD"
      },
      "outputs": [],
      "source": [
        "# Taylor series expansion.\n",
        "(exp(x) * sin(x)).series(x , 0 , 10) "
      ]
    },
    {
      "cell_type": "code",
      "execution_count": null,
      "metadata": {
        "id": "qf5oNeyfsse1"
      },
      "outputs": [],
      "source": [
        "# Simplfy trigonometric expressions.\n",
        "trigsimp(cos(x)-cos(x)**3) "
      ]
    },
    {
      "cell_type": "markdown",
      "metadata": {
        "id": "dhtZnlf3hgUW"
      },
      "source": [
        "# Numerical Methods\n",
        "\n",
        "Use the Newton-Raphson method to find the root of $x^3-0.9x^2+2=0$, starting with the point $x_0=2$. Give your answer to four decimal places. Recall that:\n",
        "\n",
        "$x_{n+1}=x_n-\\frac{f\\left(x_n\\right)}{f'(x_n)}$."
      ]
    },
    {
      "cell_type": "code",
      "execution_count": null,
      "metadata": {
        "id": "6oodkcP9gqOH"
      },
      "outputs": [],
      "source": [
        "# The Newton-Raphson Method\n",
        "def fn(x):\n",
        "    return x**3 - 0.9 * x**2 + 2\n",
        "def dfn(x):\n",
        "    return 3 * x**2 - 1.8 * x\n",
        "def NewtonRaphson(x):\n",
        "    i = 0\n",
        "    h = fn(x) / dfn(x)\n",
        "    while abs(h) >= 0.0001:\n",
        "        h = fn(x) / dfn(x)\n",
        "        x = x - h\n",
        "        i += 1              # i = i + 1\n",
        "        print('x(', i ,')', 'is {:6.4f}.'.format(x))\n",
        "# Start at x( 0 ) = 2.\n",
        "NewtonRaphson(2)"
      ]
    },
    {
      "cell_type": "markdown",
      "metadata": {
        "id": "P89YB8X-tTWQ"
      },
      "source": [
        "# 5. Animations"
      ]
    },
    {
      "cell_type": "code",
      "execution_count": null,
      "metadata": {
        "id": "-kwEzCe3tVQg"
      },
      "outputs": [],
      "source": [
        "# Animation of a Sine Wave - Change the frequency.\n",
        "import numpy as np\n",
        "from matplotlib import pyplot as plt\n",
        "from matplotlib import animation\n",
        "\n",
        "fig = plt.figure()\n",
        "ax = plt.axes(xlim=(0, 2),ylim=(-2 , 2))\n",
        "line, = ax.plot([],[],lw=2)\n",
        "plt.xlabel(\"t\")\n",
        "plt.ylabel(\"$\\sin(\\omega t)$\")\n",
        "plt.close()\n",
        "\n",
        "def init():\n",
        "    line.set_data([],[])\n",
        "    return line,\n",
        "\n",
        "# The function to animate. Now frames = 101, and 0 <= i <= 100.\n",
        "def animate(i):\n",
        "    t = np.linspace(0, 2, 1000)\n",
        "    y = np.sin(0.1 * i * t)\n",
        "    line.set_data(t, y)\n",
        "    return line,\n",
        "\n",
        "# Change interval to change speed of animation. There are 100 frames in the animation.\n",
        "anim = animation.FuncAnimation(fig, animate, init_func=init, frames=101, interval=100, blit=False)\n",
        "\n",
        "# The code to produce an animation in html.\n",
        "from IPython.display import HTML\n",
        "HTML(anim.to_jshtml())"
      ]
    },
    {
      "cell_type": "markdown",
      "metadata": {
        "id": "Nn5ZED5Dq6bi"
      },
      "source": [
        "# 6. New Book: Python for Scientific Computing and Artificial Intelligence\n",
        "\n",
        "![picture](https://images.routledge.com/common/jackets/crclarge/978103225/9781032258713.jpg)\n",
        "\n",
        "[CRC Press 2023: Book URL](https://www.routledge.com/Python-for-Scientific-Computing-and-Artificial-Intelligence/Lynch/p/book/9781032258713#)\n",
        "    \n",
        "# Features:\n",
        "\n",
        "1. No prior experience of programming is required.\n",
        "2. Online GitHub repository available with codes for readers to practice.\n",
        "3. Covers applications and examples from biology, chemistry, computer science, data science, electrical and mechanical engineering, economics, mathematics, physics, statistics and binary oscillator computing.\n",
        "4. Full solutions to exercises are available as Jupyter notebooks on the Web.\n",
        "\n",
        "# Table of Contents:\n",
        "\n",
        "Section I: An Introduction to Python. \n",
        "1. The IDLE Integrated Development Learning Environment. \n",
        "2. Anaconda, Spyder and the Libraries NumPy, Matplotlib and SymPy. \n",
        "3. Jupyter Notebooks and Google Colab. \n",
        "4. Python for AS-Level (High School) Mathematics. \n",
        "5. Python for A-Level (High School) Mathematics. \n",
        "\n",
        "Section II: Python for Scientific Computing. \n",
        "6. Biology. \n",
        "7. Chemistry. \n",
        "8. Data Science. \n",
        "9. Economics. \n",
        "10. Engineering. \n",
        "11. Fractals and Multifractals. \n",
        "12. Image Processing. \n",
        "13. Numerical Methods for Ordinary and Partial Differential Equations. \n",
        "14. Physics. \n",
        "15. Statistics. \n",
        "\n",
        "Section III. Artificial Intelligence. \n",
        "16. Brain Inspired Computing. \n",
        "17. Neural Networks and Neurodynamics. \n",
        "18. TensorFlow and Keras. \n",
        "19. Recurrent Neural Networks. \n",
        "20. Convolutional Neural Networks, TensorBoard, and Further Reading. \n",
        "21. Answers and Hints to Exercises.\n",
        "\n"
      ]
    }
  ],
  "metadata": {
    "colab": {
      "collapsed_sections": [
        "1407Iz8ihpvq",
        "6wAz6ERSptak",
        "QabrCjBzl4HV",
        "F8BFz045oJLq",
        "P89YB8X-tTWQ"
      ],
      "provenance": [],
      "include_colab_link": true
    },
    "kernelspec": {
      "display_name": "Python 3 (ipykernel)",
      "language": "python",
      "name": "python3"
    },
    "language_info": {
      "codemirror_mode": {
        "name": "ipython",
        "version": 3
      },
      "file_extension": ".py",
      "mimetype": "text/x-python",
      "name": "python",
      "nbconvert_exporter": "python",
      "pygments_lexer": "ipython3",
      "version": "3.9.7"
    }
  },
  "nbformat": 4,
  "nbformat_minor": 0
}